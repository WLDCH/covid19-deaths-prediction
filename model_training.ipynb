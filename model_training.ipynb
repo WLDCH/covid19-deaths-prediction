{
 "cells": [
  {
   "cell_type": "code",
   "execution_count": 130,
   "metadata": {},
   "outputs": [],
   "source": [
    "import pandas as pd\n",
    "import seaborn as sns\n",
    "import datetime\n",
    "import numpy as np\n",
    "\n",
    "from sklearn.ensemble import RandomForestRegressor, AdaBoostRegressor, GradientBoostingRegressor\n",
    "from sklearn.linear_model import LinearRegression\n",
    "from sklearn.metrics import mean_absolute_error\n",
    "\n",
    "import seaborn as sns\n",
    "import matplotlib.pyplot as plt\n",
    "sns.set_theme()\n",
    "pd.set_option('display.max_columns', None)"
   ]
  },
  {
   "cell_type": "code",
   "execution_count": 68,
   "metadata": {},
   "outputs": [],
   "source": [
    "covid_indicator = pd.read_csv('data/table-indicateurs-open-data-france-2022-08-05-19h01.csv')\n",
    "covid_test = pd.read_csv('data/sp-fra-jour-2022-08-05-19h01.csv', sep=';')"
   ]
  },
  {
   "cell_type": "code",
   "execution_count": 69,
   "metadata": {},
   "outputs": [
    {
     "data": {
      "text/html": [
       "<div>\n",
       "<style scoped>\n",
       "    .dataframe tbody tr th:only-of-type {\n",
       "        vertical-align: middle;\n",
       "    }\n",
       "\n",
       "    .dataframe tbody tr th {\n",
       "        vertical-align: top;\n",
       "    }\n",
       "\n",
       "    .dataframe thead th {\n",
       "        text-align: right;\n",
       "    }\n",
       "</style>\n",
       "<table border=\"1\" class=\"dataframe\">\n",
       "  <thead>\n",
       "    <tr style=\"text-align: right;\">\n",
       "      <th></th>\n",
       "      <th>date</th>\n",
       "      <th>tx_pos</th>\n",
       "      <th>tx_incid</th>\n",
       "      <th>TO</th>\n",
       "      <th>R</th>\n",
       "      <th>rea</th>\n",
       "      <th>hosp</th>\n",
       "      <th>rad</th>\n",
       "      <th>dchosp</th>\n",
       "      <th>incid_rea</th>\n",
       "      <th>incid_hosp</th>\n",
       "      <th>incid_rad</th>\n",
       "      <th>incid_dchosp</th>\n",
       "      <th>conf</th>\n",
       "      <th>conf_j1</th>\n",
       "      <th>pos</th>\n",
       "      <th>esms_dc</th>\n",
       "      <th>dc_tot</th>\n",
       "      <th>pos_7j</th>\n",
       "      <th>cv_dose1</th>\n",
       "      <th>esms_cas</th>\n",
       "    </tr>\n",
       "  </thead>\n",
       "  <tbody>\n",
       "    <tr>\n",
       "      <th>0</th>\n",
       "      <td>2020-01-23</td>\n",
       "      <td>NaN</td>\n",
       "      <td>NaN</td>\n",
       "      <td>NaN</td>\n",
       "      <td>NaN</td>\n",
       "      <td>NaN</td>\n",
       "      <td>NaN</td>\n",
       "      <td>NaN</td>\n",
       "      <td>NaN</td>\n",
       "      <td>NaN</td>\n",
       "      <td>NaN</td>\n",
       "      <td>NaN</td>\n",
       "      <td>NaN</td>\n",
       "      <td>NaN</td>\n",
       "      <td>NaN</td>\n",
       "      <td>NaN</td>\n",
       "      <td>NaN</td>\n",
       "      <td>NaN</td>\n",
       "      <td>NaN</td>\n",
       "      <td>NaN</td>\n",
       "      <td>NaN</td>\n",
       "    </tr>\n",
       "    <tr>\n",
       "      <th>1</th>\n",
       "      <td>2020-01-24</td>\n",
       "      <td>NaN</td>\n",
       "      <td>NaN</td>\n",
       "      <td>NaN</td>\n",
       "      <td>NaN</td>\n",
       "      <td>NaN</td>\n",
       "      <td>NaN</td>\n",
       "      <td>NaN</td>\n",
       "      <td>NaN</td>\n",
       "      <td>NaN</td>\n",
       "      <td>NaN</td>\n",
       "      <td>NaN</td>\n",
       "      <td>NaN</td>\n",
       "      <td>NaN</td>\n",
       "      <td>NaN</td>\n",
       "      <td>NaN</td>\n",
       "      <td>NaN</td>\n",
       "      <td>NaN</td>\n",
       "      <td>NaN</td>\n",
       "      <td>NaN</td>\n",
       "      <td>NaN</td>\n",
       "    </tr>\n",
       "    <tr>\n",
       "      <th>2</th>\n",
       "      <td>2020-01-25</td>\n",
       "      <td>NaN</td>\n",
       "      <td>NaN</td>\n",
       "      <td>NaN</td>\n",
       "      <td>NaN</td>\n",
       "      <td>NaN</td>\n",
       "      <td>NaN</td>\n",
       "      <td>NaN</td>\n",
       "      <td>NaN</td>\n",
       "      <td>NaN</td>\n",
       "      <td>NaN</td>\n",
       "      <td>NaN</td>\n",
       "      <td>NaN</td>\n",
       "      <td>NaN</td>\n",
       "      <td>NaN</td>\n",
       "      <td>NaN</td>\n",
       "      <td>NaN</td>\n",
       "      <td>NaN</td>\n",
       "      <td>NaN</td>\n",
       "      <td>NaN</td>\n",
       "      <td>NaN</td>\n",
       "    </tr>\n",
       "    <tr>\n",
       "      <th>3</th>\n",
       "      <td>2020-01-26</td>\n",
       "      <td>NaN</td>\n",
       "      <td>NaN</td>\n",
       "      <td>NaN</td>\n",
       "      <td>NaN</td>\n",
       "      <td>NaN</td>\n",
       "      <td>NaN</td>\n",
       "      <td>NaN</td>\n",
       "      <td>NaN</td>\n",
       "      <td>NaN</td>\n",
       "      <td>NaN</td>\n",
       "      <td>NaN</td>\n",
       "      <td>NaN</td>\n",
       "      <td>NaN</td>\n",
       "      <td>NaN</td>\n",
       "      <td>NaN</td>\n",
       "      <td>NaN</td>\n",
       "      <td>NaN</td>\n",
       "      <td>NaN</td>\n",
       "      <td>NaN</td>\n",
       "      <td>NaN</td>\n",
       "    </tr>\n",
       "    <tr>\n",
       "      <th>4</th>\n",
       "      <td>2020-01-27</td>\n",
       "      <td>NaN</td>\n",
       "      <td>NaN</td>\n",
       "      <td>NaN</td>\n",
       "      <td>NaN</td>\n",
       "      <td>NaN</td>\n",
       "      <td>NaN</td>\n",
       "      <td>NaN</td>\n",
       "      <td>NaN</td>\n",
       "      <td>NaN</td>\n",
       "      <td>NaN</td>\n",
       "      <td>NaN</td>\n",
       "      <td>NaN</td>\n",
       "      <td>NaN</td>\n",
       "      <td>NaN</td>\n",
       "      <td>NaN</td>\n",
       "      <td>NaN</td>\n",
       "      <td>NaN</td>\n",
       "      <td>NaN</td>\n",
       "      <td>NaN</td>\n",
       "      <td>NaN</td>\n",
       "    </tr>\n",
       "    <tr>\n",
       "      <th>...</th>\n",
       "      <td>...</td>\n",
       "      <td>...</td>\n",
       "      <td>...</td>\n",
       "      <td>...</td>\n",
       "      <td>...</td>\n",
       "      <td>...</td>\n",
       "      <td>...</td>\n",
       "      <td>...</td>\n",
       "      <td>...</td>\n",
       "      <td>...</td>\n",
       "      <td>...</td>\n",
       "      <td>...</td>\n",
       "      <td>...</td>\n",
       "      <td>...</td>\n",
       "      <td>...</td>\n",
       "      <td>...</td>\n",
       "      <td>...</td>\n",
       "      <td>...</td>\n",
       "      <td>...</td>\n",
       "      <td>...</td>\n",
       "      <td>...</td>\n",
       "    </tr>\n",
       "    <tr>\n",
       "      <th>921</th>\n",
       "      <td>2022-08-01</td>\n",
       "      <td>22.71</td>\n",
       "      <td>421.17</td>\n",
       "      <td>0.238236</td>\n",
       "      <td>NaN</td>\n",
       "      <td>1205.0</td>\n",
       "      <td>20063.0</td>\n",
       "      <td>713025.0</td>\n",
       "      <td>123157.0</td>\n",
       "      <td>130.0</td>\n",
       "      <td>1195.0</td>\n",
       "      <td>1046.0</td>\n",
       "      <td>122.0</td>\n",
       "      <td>NaN</td>\n",
       "      <td>7249.0</td>\n",
       "      <td>56657.0</td>\n",
       "      <td>29022.0</td>\n",
       "      <td>152179.0</td>\n",
       "      <td>285823.0</td>\n",
       "      <td>NaN</td>\n",
       "      <td>402595.0</td>\n",
       "    </tr>\n",
       "    <tr>\n",
       "      <th>922</th>\n",
       "      <td>2022-08-02</td>\n",
       "      <td>22.21</td>\n",
       "      <td>392.00</td>\n",
       "      <td>0.233294</td>\n",
       "      <td>NaN</td>\n",
       "      <td>1180.0</td>\n",
       "      <td>19792.0</td>\n",
       "      <td>714464.0</td>\n",
       "      <td>123258.0</td>\n",
       "      <td>141.0</td>\n",
       "      <td>1306.0</td>\n",
       "      <td>1453.0</td>\n",
       "      <td>104.0</td>\n",
       "      <td>NaN</td>\n",
       "      <td>54519.0</td>\n",
       "      <td>36763.0</td>\n",
       "      <td>29022.0</td>\n",
       "      <td>152280.0</td>\n",
       "      <td>266022.0</td>\n",
       "      <td>NaN</td>\n",
       "      <td>402615.0</td>\n",
       "    </tr>\n",
       "    <tr>\n",
       "      <th>923</th>\n",
       "      <td>2022-08-03</td>\n",
       "      <td>NaN</td>\n",
       "      <td>NaN</td>\n",
       "      <td>0.227560</td>\n",
       "      <td>NaN</td>\n",
       "      <td>1151.0</td>\n",
       "      <td>19389.0</td>\n",
       "      <td>715761.0</td>\n",
       "      <td>123341.0</td>\n",
       "      <td>92.0</td>\n",
       "      <td>1001.0</td>\n",
       "      <td>1316.0</td>\n",
       "      <td>86.0</td>\n",
       "      <td>NaN</td>\n",
       "      <td>38788.0</td>\n",
       "      <td>NaN</td>\n",
       "      <td>29029.0</td>\n",
       "      <td>152370.0</td>\n",
       "      <td>NaN</td>\n",
       "      <td>NaN</td>\n",
       "      <td>403320.0</td>\n",
       "    </tr>\n",
       "    <tr>\n",
       "      <th>924</th>\n",
       "      <td>2022-08-04</td>\n",
       "      <td>NaN</td>\n",
       "      <td>NaN</td>\n",
       "      <td>0.227560</td>\n",
       "      <td>NaN</td>\n",
       "      <td>1151.0</td>\n",
       "      <td>19154.0</td>\n",
       "      <td>716889.0</td>\n",
       "      <td>123426.0</td>\n",
       "      <td>107.0</td>\n",
       "      <td>1002.0</td>\n",
       "      <td>1145.0</td>\n",
       "      <td>87.0</td>\n",
       "      <td>NaN</td>\n",
       "      <td>33799.0</td>\n",
       "      <td>NaN</td>\n",
       "      <td>29031.0</td>\n",
       "      <td>152457.0</td>\n",
       "      <td>NaN</td>\n",
       "      <td>80.3</td>\n",
       "      <td>403749.0</td>\n",
       "    </tr>\n",
       "    <tr>\n",
       "      <th>925</th>\n",
       "      <td>2022-08-05</td>\n",
       "      <td>NaN</td>\n",
       "      <td>NaN</td>\n",
       "      <td>0.225781</td>\n",
       "      <td>NaN</td>\n",
       "      <td>1142.0</td>\n",
       "      <td>18803.0</td>\n",
       "      <td>717990.0</td>\n",
       "      <td>123503.0</td>\n",
       "      <td>106.0</td>\n",
       "      <td>851.0</td>\n",
       "      <td>1131.0</td>\n",
       "      <td>83.0</td>\n",
       "      <td>NaN</td>\n",
       "      <td>30592.0</td>\n",
       "      <td>NaN</td>\n",
       "      <td>29034.0</td>\n",
       "      <td>152537.0</td>\n",
       "      <td>NaN</td>\n",
       "      <td>NaN</td>\n",
       "      <td>404228.0</td>\n",
       "    </tr>\n",
       "  </tbody>\n",
       "</table>\n",
       "<p>926 rows × 21 columns</p>\n",
       "</div>"
      ],
      "text/plain": [
       "           date  tx_pos  tx_incid        TO   R     rea     hosp       rad  \\\n",
       "0    2020-01-23     NaN       NaN       NaN NaN     NaN      NaN       NaN   \n",
       "1    2020-01-24     NaN       NaN       NaN NaN     NaN      NaN       NaN   \n",
       "2    2020-01-25     NaN       NaN       NaN NaN     NaN      NaN       NaN   \n",
       "3    2020-01-26     NaN       NaN       NaN NaN     NaN      NaN       NaN   \n",
       "4    2020-01-27     NaN       NaN       NaN NaN     NaN      NaN       NaN   \n",
       "..          ...     ...       ...       ...  ..     ...      ...       ...   \n",
       "921  2022-08-01   22.71    421.17  0.238236 NaN  1205.0  20063.0  713025.0   \n",
       "922  2022-08-02   22.21    392.00  0.233294 NaN  1180.0  19792.0  714464.0   \n",
       "923  2022-08-03     NaN       NaN  0.227560 NaN  1151.0  19389.0  715761.0   \n",
       "924  2022-08-04     NaN       NaN  0.227560 NaN  1151.0  19154.0  716889.0   \n",
       "925  2022-08-05     NaN       NaN  0.225781 NaN  1142.0  18803.0  717990.0   \n",
       "\n",
       "       dchosp  incid_rea  incid_hosp  incid_rad  incid_dchosp  conf  conf_j1  \\\n",
       "0         NaN        NaN         NaN        NaN           NaN   NaN      NaN   \n",
       "1         NaN        NaN         NaN        NaN           NaN   NaN      NaN   \n",
       "2         NaN        NaN         NaN        NaN           NaN   NaN      NaN   \n",
       "3         NaN        NaN         NaN        NaN           NaN   NaN      NaN   \n",
       "4         NaN        NaN         NaN        NaN           NaN   NaN      NaN   \n",
       "..        ...        ...         ...        ...           ...   ...      ...   \n",
       "921  123157.0      130.0      1195.0     1046.0         122.0   NaN   7249.0   \n",
       "922  123258.0      141.0      1306.0     1453.0         104.0   NaN  54519.0   \n",
       "923  123341.0       92.0      1001.0     1316.0          86.0   NaN  38788.0   \n",
       "924  123426.0      107.0      1002.0     1145.0          87.0   NaN  33799.0   \n",
       "925  123503.0      106.0       851.0     1131.0          83.0   NaN  30592.0   \n",
       "\n",
       "         pos  esms_dc    dc_tot    pos_7j  cv_dose1  esms_cas  \n",
       "0        NaN      NaN       NaN       NaN       NaN       NaN  \n",
       "1        NaN      NaN       NaN       NaN       NaN       NaN  \n",
       "2        NaN      NaN       NaN       NaN       NaN       NaN  \n",
       "3        NaN      NaN       NaN       NaN       NaN       NaN  \n",
       "4        NaN      NaN       NaN       NaN       NaN       NaN  \n",
       "..       ...      ...       ...       ...       ...       ...  \n",
       "921  56657.0  29022.0  152179.0  285823.0       NaN  402595.0  \n",
       "922  36763.0  29022.0  152280.0  266022.0       NaN  402615.0  \n",
       "923      NaN  29029.0  152370.0       NaN       NaN  403320.0  \n",
       "924      NaN  29031.0  152457.0       NaN      80.3  403749.0  \n",
       "925      NaN  29034.0  152537.0       NaN       NaN  404228.0  \n",
       "\n",
       "[926 rows x 21 columns]"
      ]
     },
     "execution_count": 69,
     "metadata": {},
     "output_type": "execute_result"
    }
   ],
   "source": [
    "covid_indicator"
   ]
  },
  {
   "cell_type": "code",
   "execution_count": 70,
   "metadata": {},
   "outputs": [
    {
     "data": {
      "text/plain": [
       "<AxesSubplot:ylabel='date'>"
      ]
     },
     "execution_count": 70,
     "metadata": {},
     "output_type": "execute_result"
    },
    {
     "data": {
      "image/png": "[encoded data removed]",
      "text/plain": [
       "<Figure size 432x288 with 2 Axes>"
      ]
     },
     "metadata": {
      "needs_background": "light"
     },
     "output_type": "display_data"
    }
   ],
   "source": [
    "sns.heatmap(covid_indicator.set_index('date').isna())"
   ]
  },
  {
   "cell_type": "code",
   "execution_count": 71,
   "metadata": {},
   "outputs": [],
   "source": [
    "features = ['hosp', \n",
    "        'incid_hosp', \n",
    "        'rea', \n",
    "        'incid_rea', \n",
    "        'rad', \n",
    "        'incid_rad',\n",
    "        'pos',\n",
    "        'pos_7j',\n",
    "        'tx_pos',\n",
    "        'tx_incid',\n",
    "        'TO',\n",
    "        'R']\n",
    "\n",
    "target = ['incid_dchosp']"
   ]
  },
  {
   "cell_type": "code",
   "execution_count": 72,
   "metadata": {},
   "outputs": [
    {
     "data": {
      "text/plain": [
       "<AxesSubplot:ylabel='date'>"
      ]
     },
     "execution_count": 72,
     "metadata": {},
     "output_type": "execute_result"
    },
    {
     "data": {
      "image/png": "[encoded data removed]",
      "text/plain": [
       "<Figure size 432x288 with 2 Axes>"
      ]
     },
     "metadata": {
      "needs_background": "light"
     },
     "output_type": "display_data"
    }
   ],
   "source": [
    "sns.heatmap(covid_indicator.set_index('date')[features + target].isna())"
   ]
  },
  {
   "cell_type": "code",
   "execution_count": 73,
   "metadata": {},
   "outputs": [],
   "source": [
    "covid_df = covid_indicator[['date'] + features + target].dropna()"
   ]
  },
  {
   "cell_type": "code",
   "execution_count": 74,
   "metadata": {},
   "outputs": [],
   "source": [
    "def get_j7_dc(row):\n",
    "    try:\n",
    "        j7_date = datetime.datetime.strftime(datetime.datetime.strptime(row['date'], '%Y-%m-%d') + datetime.timedelta(days=7), '%Y-%m-%d')\n",
    "        j7_dc = covid_df.loc[covid_df.date == j7_date, 'incid_dchosp'].values[0]\n",
    "        return(j7_dc)\n",
    "    except:\n",
    "        return(-1)\n",
    "covid_df.loc[:, 'dc_j7'] = covid_df.apply(get_j7_dc, axis=1)"
   ]
  },
  {
   "cell_type": "code",
   "execution_count": 75,
   "metadata": {},
   "outputs": [],
   "source": [
    "covid_df = covid_df.loc[covid_df.dc_j7 != -1, :]"
   ]
  },
  {
   "cell_type": "code",
   "execution_count": 109,
   "metadata": {},
   "outputs": [],
   "source": [
    "df_train, df_val = covid_df.iloc[:-7], covid_df.iloc[-7:]\n",
    "\n",
    "X_train, y_train = df_train[features], df_train['dc_j7']\n",
    "X_val, y_val = df_val[features], df_val['dc_j7']"
   ]
  },
  {
   "cell_type": "code",
   "execution_count": 110,
   "metadata": {},
   "outputs": [],
   "source": [
    "rf = RandomForestRegressor()\n",
    "\n",
    "rf.fit(X_train, y_train)\n",
    "y_pred = rf.predict(X_val)"
   ]
  },
  {
   "cell_type": "code",
   "execution_count": 111,
   "metadata": {},
   "outputs": [
    {
     "data": {
      "text/plain": [
       "14.711428571428574"
      ]
     },
     "execution_count": 111,
     "metadata": {},
     "output_type": "execute_result"
    }
   ],
   "source": [
    "mae = mean_absolute_error(y_val, y_pred)\n",
    "mae"
   ]
  },
  {
   "cell_type": "code",
   "execution_count": 112,
   "metadata": {},
   "outputs": [
    {
     "data": {
      "text/plain": [
       "array([ 29.95, 136.91, 140.93, 110.54, 112.27, 108.59,  66.79])"
      ]
     },
     "execution_count": 112,
     "metadata": {},
     "output_type": "execute_result"
    }
   ],
   "source": [
    "y_pred"
   ]
  },
  {
   "cell_type": "code",
   "execution_count": 113,
   "metadata": {},
   "outputs": [
    {
     "data": {
      "text/plain": [
       "906     19.0\n",
       "907    132.0\n",
       "908    119.0\n",
       "909     95.0\n",
       "910    104.0\n",
       "911     82.0\n",
       "912     52.0\n",
       "Name: dc_j7, dtype: float64"
      ]
     },
     "execution_count": 113,
     "metadata": {},
     "output_type": "execute_result"
    }
   ],
   "source": [
    "y_val"
   ]
  },
  {
   "cell_type": "code",
   "execution_count": 125,
   "metadata": {},
   "outputs": [
    {
     "data": {
      "text/plain": [
       "<matplotlib.legend.Legend at 0x7fea764862e0>"
      ]
     },
     "execution_count": 125,
     "metadata": {},
     "output_type": "execute_result"
    },
    {
     "data": {
      "image/png": "[encoded data removed]",
      "text/plain": [
       "<Figure size 432x288 with 1 Axes>"
      ]
     },
     "metadata": {},
     "output_type": "display_data"
    }
   ],
   "source": [
    "plt.xticks(rotation=45)\n",
    "sns.lineplot(x=covid_df.iloc[-7:, 0], y=y_val, label='Ground truth')\n",
    "sns.lineplot(x=covid_df.iloc[-7:, 0], y=y_pred, label='Deaths prediction')\n",
    "plt.legend()"
   ]
  },
  {
   "cell_type": "code",
   "execution_count": 131,
   "metadata": {},
   "outputs": [
    {
     "data": {
      "image/png": "[encoded data removed]",
      "text/plain": [
       "<Figure size 432x288 with 1 Axes>"
      ]
     },
     "metadata": {},
     "output_type": "display_data"
    }
   ],
   "source": [
    "importances = rf.feature_importances_\n",
    "forest_importances = pd.Series(importances, index=features)\n",
    "std = np.std([tree.feature_importances_ for tree in rf.estimators_], axis=0)\n",
    "\n",
    "fig, ax = plt.subplots()\n",
    "forest_importances.plot.bar(yerr=std, ax=ax)\n",
    "ax.set_title(\"Feature importances using MDI\")\n",
    "ax.set_ylabel(\"Mean decrease in impurity\")\n",
    "fig.tight_layout()"
   ]
  },
  {
   "cell_type": "code",
   "execution_count": 133,
   "metadata": {},
   "outputs": [],
   "source": [
    "from sklearn.inspection import permutation_importance\n",
    "\n",
    "result = permutation_importance(\n",
    "    rf, X_val, y_val, n_repeats=10, random_state=42, n_jobs=2\n",
    ")\n",
    "\n",
    "\n",
    "forest_importances = pd.Series(result.importances_mean, index=features)"
   ]
  },
  {
   "cell_type": "code",
   "execution_count": 134,
   "metadata": {},
   "outputs": [
    {
     "data": {
      "image/png": "[encoded data removed]",
      "text/plain": [
       "<Figure size 432x288 with 1 Axes>"
      ]
     },
     "metadata": {},
     "output_type": "display_data"
    }
   ],
   "source": [
    "fig, ax = plt.subplots()\n",
    "forest_importances.plot.bar(yerr=result.importances_std, ax=ax)\n",
    "ax.set_title(\"Feature importances using permutation on full model\")\n",
    "ax.set_ylabel(\"Mean accuracy decrease\")\n",
    "fig.tight_layout()\n",
    "plt.show()"
   ]
  },
  {
   "cell_type": "code",
   "execution_count": 81,
   "metadata": {},
   "outputs": [
    {
     "data": {
      "text/html": [
       "<div>\n",
       "<style scoped>\n",
       "    .dataframe tbody tr th:only-of-type {\n",
       "        vertical-align: middle;\n",
       "    }\n",
       "\n",
       "    .dataframe tbody tr th {\n",
       "        vertical-align: top;\n",
       "    }\n",
       "\n",
       "    .dataframe thead th {\n",
       "        text-align: right;\n",
       "    }\n",
       "</style>\n",
       "<table border=\"1\" class=\"dataframe\">\n",
       "  <thead>\n",
       "    <tr style=\"text-align: right;\">\n",
       "      <th></th>\n",
       "      <th>fra</th>\n",
       "      <th>jour</th>\n",
       "      <th>pop</th>\n",
       "      <th>P</th>\n",
       "      <th>T</th>\n",
       "      <th>Ti</th>\n",
       "      <th>Tp</th>\n",
       "      <th>Td</th>\n",
       "      <th>cl_age90</th>\n",
       "    </tr>\n",
       "  </thead>\n",
       "  <tbody>\n",
       "    <tr>\n",
       "      <th>0</th>\n",
       "      <td>FR</td>\n",
       "      <td>2020-05-13</td>\n",
       "      <td>67114992,00</td>\n",
       "      <td>901,00</td>\n",
       "      <td>39846,00</td>\n",
       "      <td>1,34</td>\n",
       "      <td>2,26</td>\n",
       "      <td>59,37</td>\n",
       "      <td>0</td>\n",
       "    </tr>\n",
       "    <tr>\n",
       "      <th>1</th>\n",
       "      <td>FR</td>\n",
       "      <td>2020-05-14</td>\n",
       "      <td>67114992,00</td>\n",
       "      <td>1015,00</td>\n",
       "      <td>43174,00</td>\n",
       "      <td>1,51</td>\n",
       "      <td>2,35</td>\n",
       "      <td>64,33</td>\n",
       "      <td>0</td>\n",
       "    </tr>\n",
       "    <tr>\n",
       "      <th>2</th>\n",
       "      <td>FR</td>\n",
       "      <td>2020-05-15</td>\n",
       "      <td>67114992,00</td>\n",
       "      <td>1044,00</td>\n",
       "      <td>48381,00</td>\n",
       "      <td>1,56</td>\n",
       "      <td>2,16</td>\n",
       "      <td>72,09</td>\n",
       "      <td>0</td>\n",
       "    </tr>\n",
       "    <tr>\n",
       "      <th>3</th>\n",
       "      <td>FR</td>\n",
       "      <td>2020-05-16</td>\n",
       "      <td>67114992,00</td>\n",
       "      <td>292,00</td>\n",
       "      <td>16664,00</td>\n",
       "      <td>0,44</td>\n",
       "      <td>1,75</td>\n",
       "      <td>24,83</td>\n",
       "      <td>0</td>\n",
       "    </tr>\n",
       "    <tr>\n",
       "      <th>4</th>\n",
       "      <td>FR</td>\n",
       "      <td>2020-05-17</td>\n",
       "      <td>67114992,00</td>\n",
       "      <td>142,00</td>\n",
       "      <td>6651,00</td>\n",
       "      <td>0,21</td>\n",
       "      <td>2,14</td>\n",
       "      <td>9,91</td>\n",
       "      <td>0</td>\n",
       "    </tr>\n",
       "    <tr>\n",
       "      <th>...</th>\n",
       "      <td>...</td>\n",
       "      <td>...</td>\n",
       "      <td>...</td>\n",
       "      <td>...</td>\n",
       "      <td>...</td>\n",
       "      <td>...</td>\n",
       "      <td>...</td>\n",
       "      <td>...</td>\n",
       "      <td>...</td>\n",
       "    </tr>\n",
       "    <tr>\n",
       "      <th>807</th>\n",
       "      <td>FR</td>\n",
       "      <td>2022-07-29</td>\n",
       "      <td>67863600,00</td>\n",
       "      <td>40858,00</td>\n",
       "      <td>201427,00</td>\n",
       "      <td>60,21</td>\n",
       "      <td>20,28</td>\n",
       "      <td>296,81</td>\n",
       "      <td>0</td>\n",
       "    </tr>\n",
       "    <tr>\n",
       "      <th>808</th>\n",
       "      <td>FR</td>\n",
       "      <td>2022-07-30</td>\n",
       "      <td>67863600,00</td>\n",
       "      <td>29329,00</td>\n",
       "      <td>164347,00</td>\n",
       "      <td>43,22</td>\n",
       "      <td>17,85</td>\n",
       "      <td>242,17</td>\n",
       "      <td>0</td>\n",
       "    </tr>\n",
       "    <tr>\n",
       "      <th>809</th>\n",
       "      <td>FR</td>\n",
       "      <td>2022-07-31</td>\n",
       "      <td>67863600,00</td>\n",
       "      <td>7285,00</td>\n",
       "      <td>47372,00</td>\n",
       "      <td>10,73</td>\n",
       "      <td>15,38</td>\n",
       "      <td>69,80</td>\n",
       "      <td>0</td>\n",
       "    </tr>\n",
       "    <tr>\n",
       "      <th>810</th>\n",
       "      <td>FR</td>\n",
       "      <td>2022-08-01</td>\n",
       "      <td>67863600,00</td>\n",
       "      <td>56657,00</td>\n",
       "      <td>241023,00</td>\n",
       "      <td>83,49</td>\n",
       "      <td>23,51</td>\n",
       "      <td>355,16</td>\n",
       "      <td>0</td>\n",
       "    </tr>\n",
       "    <tr>\n",
       "      <th>811</th>\n",
       "      <td>FR</td>\n",
       "      <td>2022-08-02</td>\n",
       "      <td>67863600,00</td>\n",
       "      <td>36763,00</td>\n",
       "      <td>173193,00</td>\n",
       "      <td>54,17</td>\n",
       "      <td>21,23</td>\n",
       "      <td>255,21</td>\n",
       "      <td>0</td>\n",
       "    </tr>\n",
       "  </tbody>\n",
       "</table>\n",
       "<p>812 rows × 9 columns</p>\n",
       "</div>"
      ],
      "text/plain": [
       "    fra        jour          pop         P          T     Ti     Tp      Td  \\\n",
       "0    FR  2020-05-13  67114992,00    901,00   39846,00   1,34   2,26   59,37   \n",
       "1    FR  2020-05-14  67114992,00   1015,00   43174,00   1,51   2,35   64,33   \n",
       "2    FR  2020-05-15  67114992,00   1044,00   48381,00   1,56   2,16   72,09   \n",
       "3    FR  2020-05-16  67114992,00    292,00   16664,00   0,44   1,75   24,83   \n",
       "4    FR  2020-05-17  67114992,00    142,00    6651,00   0,21   2,14    9,91   \n",
       "..   ..         ...          ...       ...        ...    ...    ...     ...   \n",
       "807  FR  2022-07-29  67863600,00  40858,00  201427,00  60,21  20,28  296,81   \n",
       "808  FR  2022-07-30  67863600,00  29329,00  164347,00  43,22  17,85  242,17   \n",
       "809  FR  2022-07-31  67863600,00   7285,00   47372,00  10,73  15,38   69,80   \n",
       "810  FR  2022-08-01  67863600,00  56657,00  241023,00  83,49  23,51  355,16   \n",
       "811  FR  2022-08-02  67863600,00  36763,00  173193,00  54,17  21,23  255,21   \n",
       "\n",
       "     cl_age90  \n",
       "0           0  \n",
       "1           0  \n",
       "2           0  \n",
       "3           0  \n",
       "4           0  \n",
       "..        ...  \n",
       "807         0  \n",
       "808         0  \n",
       "809         0  \n",
       "810         0  \n",
       "811         0  \n",
       "\n",
       "[812 rows x 9 columns]"
      ]
     },
     "execution_count": 81,
     "metadata": {},
     "output_type": "execute_result"
    }
   ],
   "source": [
    "covid_test"
   ]
  },
  {
   "cell_type": "code",
   "execution_count": 82,
   "metadata": {},
   "outputs": [
    {
     "data": {
      "text/plain": [
       "<AxesSubplot:>"
      ]
     },
     "execution_count": 82,
     "metadata": {},
     "output_type": "execute_result"
    },
    {
     "data": {
      "image/png": "[encoded data removed]",
      "text/plain": [
       "<Figure size 432x288 with 2 Axes>"
      ]
     },
     "metadata": {
      "needs_background": "light"
     },
     "output_type": "display_data"
    }
   ],
   "source": [
    "sns.heatmap(covid_test.isna())"
   ]
  }
 ],
 "metadata": {
  "kernelspec": {
   "display_name": "Python 3.9.12 ('base')",
   "language": "python",
   "name": "python3"
  },
  "language_info": {
   "codemirror_mode": {
    "name": "ipython",
    "version": 3
   },
   "file_extension": ".py",
   "mimetype": "text/x-python",
   "name": "python",
   "nbconvert_exporter": "python",
   "pygments_lexer": "ipython3",
   "version": "3.9.12"
  },
  "orig_nbformat": 4,
  "vscode": {
   "interpreter": {
    "hash": "4c5a57249d88ed4f534c90d8bfe2f15a5a8a10b99f099be8e8dc865ce7f6fb88"
   }
  }
 },
 "nbformat": 4,
 "nbformat_minor": 2
}
