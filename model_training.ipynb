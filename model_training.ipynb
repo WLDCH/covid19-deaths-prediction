{
 "cells": [
  {
   "cell_type": "code",
   "execution_count": 2,
   "metadata": {},
   "outputs": [],
   "source": [
    "import pandas as pd\n",
    "import seaborn as sns\n",
    "import datetime\n",
    "import numpy as np\n",
    "\n",
    "from sklearn.ensemble import RandomForestRegressor, AdaBoostRegressor, GradientBoostingRegressor\n",
    "from sklearn.linear_model import LinearRegression\n",
    "from sklearn.metrics import mean_absolute_error\n",
    "\n",
    "import seaborn as sns\n",
    "import matplotlib.pyplot as plt\n",
    "sns.set_theme()\n",
    "pd.set_option('display.max_columns', None)"
   ]
  },
  {
   "cell_type": "code",
   "execution_count": 3,
   "metadata": {},
   "outputs": [],
   "source": [
    "covid_indicator = pd.read_csv('data/table-indicateurs-open-data-france-2022-08-05-19h01.csv')\n",
    "covid_test = pd.read_csv('data/sp-fra-jour-2022-08-05-19h01.csv', sep=';')"
   ]
  },
  {
   "cell_type": "code",
   "execution_count": 4,
   "metadata": {},
   "outputs": [
    {
     "data": {
      "text/html": [
       "<div>\n",
       "<style scoped>\n",
       "    .dataframe tbody tr th:only-of-type {\n",
       "        vertical-align: middle;\n",
       "    }\n",
       "\n",
       "    .dataframe tbody tr th {\n",
       "        vertical-align: top;\n",
       "    }\n",
       "\n",
       "    .dataframe thead th {\n",
       "        text-align: right;\n",
       "    }\n",
       "</style>\n",
       "<table border=\"1\" class=\"dataframe\">\n",
       "  <thead>\n",
       "    <tr style=\"text-align: right;\">\n",
       "      <th></th>\n",
       "      <th>date</th>\n",
       "      <th>tx_pos</th>\n",
       "      <th>tx_incid</th>\n",
       "      <th>TO</th>\n",
       "      <th>R</th>\n",
       "      <th>rea</th>\n",
       "      <th>hosp</th>\n",
       "      <th>rad</th>\n",
       "      <th>dchosp</th>\n",
       "      <th>incid_rea</th>\n",
       "      <th>incid_hosp</th>\n",
       "      <th>incid_rad</th>\n",
       "      <th>incid_dchosp</th>\n",
       "      <th>conf</th>\n",
       "      <th>conf_j1</th>\n",
       "      <th>pos</th>\n",
       "      <th>esms_dc</th>\n",
       "      <th>dc_tot</th>\n",
       "      <th>pos_7j</th>\n",
       "      <th>cv_dose1</th>\n",
       "      <th>esms_cas</th>\n",
       "    </tr>\n",
       "  </thead>\n",
       "  <tbody>\n",
       "    <tr>\n",
       "      <th>0</th>\n",
       "      <td>2020-01-23</td>\n",
       "      <td>NaN</td>\n",
       "      <td>NaN</td>\n",
       "      <td>NaN</td>\n",
       "      <td>NaN</td>\n",
       "      <td>NaN</td>\n",
       "      <td>NaN</td>\n",
       "      <td>NaN</td>\n",
       "      <td>NaN</td>\n",
       "      <td>NaN</td>\n",
       "      <td>NaN</td>\n",
       "      <td>NaN</td>\n",
       "      <td>NaN</td>\n",
       "      <td>NaN</td>\n",
       "      <td>NaN</td>\n",
       "      <td>NaN</td>\n",
       "      <td>NaN</td>\n",
       "      <td>NaN</td>\n",
       "      <td>NaN</td>\n",
       "      <td>NaN</td>\n",
       "      <td>NaN</td>\n",
       "    </tr>\n",
       "    <tr>\n",
       "      <th>1</th>\n",
       "      <td>2020-01-24</td>\n",
       "      <td>NaN</td>\n",
       "      <td>NaN</td>\n",
       "      <td>NaN</td>\n",
       "      <td>NaN</td>\n",
       "      <td>NaN</td>\n",
       "      <td>NaN</td>\n",
       "      <td>NaN</td>\n",
       "      <td>NaN</td>\n",
       "      <td>NaN</td>\n",
       "      <td>NaN</td>\n",
       "      <td>NaN</td>\n",
       "      <td>NaN</td>\n",
       "      <td>NaN</td>\n",
       "      <td>NaN</td>\n",
       "      <td>NaN</td>\n",
       "      <td>NaN</td>\n",
       "      <td>NaN</td>\n",
       "      <td>NaN</td>\n",
       "      <td>NaN</td>\n",
       "      <td>NaN</td>\n",
       "    </tr>\n",
       "    <tr>\n",
       "      <th>2</th>\n",
       "      <td>2020-01-25</td>\n",
       "      <td>NaN</td>\n",
       "      <td>NaN</td>\n",
       "      <td>NaN</td>\n",
       "      <td>NaN</td>\n",
       "      <td>NaN</td>\n",
       "      <td>NaN</td>\n",
       "      <td>NaN</td>\n",
       "      <td>NaN</td>\n",
       "      <td>NaN</td>\n",
       "      <td>NaN</td>\n",
       "      <td>NaN</td>\n",
       "      <td>NaN</td>\n",
       "      <td>NaN</td>\n",
       "      <td>NaN</td>\n",
       "      <td>NaN</td>\n",
       "      <td>NaN</td>\n",
       "      <td>NaN</td>\n",
       "      <td>NaN</td>\n",
       "      <td>NaN</td>\n",
       "      <td>NaN</td>\n",
       "    </tr>\n",
       "    <tr>\n",
       "      <th>3</th>\n",
       "      <td>2020-01-26</td>\n",
       "      <td>NaN</td>\n",
       "      <td>NaN</td>\n",
       "      <td>NaN</td>\n",
       "      <td>NaN</td>\n",
       "      <td>NaN</td>\n",
       "      <td>NaN</td>\n",
       "      <td>NaN</td>\n",
       "      <td>NaN</td>\n",
       "      <td>NaN</td>\n",
       "      <td>NaN</td>\n",
       "      <td>NaN</td>\n",
       "      <td>NaN</td>\n",
       "      <td>NaN</td>\n",
       "      <td>NaN</td>\n",
       "      <td>NaN</td>\n",
       "      <td>NaN</td>\n",
       "      <td>NaN</td>\n",
       "      <td>NaN</td>\n",
       "      <td>NaN</td>\n",
       "      <td>NaN</td>\n",
       "    </tr>\n",
       "    <tr>\n",
       "      <th>4</th>\n",
       "      <td>2020-01-27</td>\n",
       "      <td>NaN</td>\n",
       "      <td>NaN</td>\n",
       "      <td>NaN</td>\n",
       "      <td>NaN</td>\n",
       "      <td>NaN</td>\n",
       "      <td>NaN</td>\n",
       "      <td>NaN</td>\n",
       "      <td>NaN</td>\n",
       "      <td>NaN</td>\n",
       "      <td>NaN</td>\n",
       "      <td>NaN</td>\n",
       "      <td>NaN</td>\n",
       "      <td>NaN</td>\n",
       "      <td>NaN</td>\n",
       "      <td>NaN</td>\n",
       "      <td>NaN</td>\n",
       "      <td>NaN</td>\n",
       "      <td>NaN</td>\n",
       "      <td>NaN</td>\n",
       "      <td>NaN</td>\n",
       "    </tr>\n",
       "    <tr>\n",
       "      <th>...</th>\n",
       "      <td>...</td>\n",
       "      <td>...</td>\n",
       "      <td>...</td>\n",
       "      <td>...</td>\n",
       "      <td>...</td>\n",
       "      <td>...</td>\n",
       "      <td>...</td>\n",
       "      <td>...</td>\n",
       "      <td>...</td>\n",
       "      <td>...</td>\n",
       "      <td>...</td>\n",
       "      <td>...</td>\n",
       "      <td>...</td>\n",
       "      <td>...</td>\n",
       "      <td>...</td>\n",
       "      <td>...</td>\n",
       "      <td>...</td>\n",
       "      <td>...</td>\n",
       "      <td>...</td>\n",
       "      <td>...</td>\n",
       "      <td>...</td>\n",
       "    </tr>\n",
       "    <tr>\n",
       "      <th>921</th>\n",
       "      <td>2022-08-01</td>\n",
       "      <td>22.71</td>\n",
       "      <td>421.17</td>\n",
       "      <td>0.238236</td>\n",
       "      <td>NaN</td>\n",
       "      <td>1205.0</td>\n",
       "      <td>20063.0</td>\n",
       "      <td>713025.0</td>\n",
       "      <td>123157.0</td>\n",
       "      <td>130.0</td>\n",
       "      <td>1195.0</td>\n",
       "      <td>1046.0</td>\n",
       "      <td>122.0</td>\n",
       "      <td>NaN</td>\n",
       "      <td>7249.0</td>\n",
       "      <td>56657.0</td>\n",
       "      <td>29022.0</td>\n",
       "      <td>152179.0</td>\n",
       "      <td>285823.0</td>\n",
       "      <td>NaN</td>\n",
       "      <td>402595.0</td>\n",
       "    </tr>\n",
       "    <tr>\n",
       "      <th>922</th>\n",
       "      <td>2022-08-02</td>\n",
       "      <td>22.21</td>\n",
       "      <td>392.00</td>\n",
       "      <td>0.233294</td>\n",
       "      <td>NaN</td>\n",
       "      <td>1180.0</td>\n",
       "      <td>19792.0</td>\n",
       "      <td>714464.0</td>\n",
       "      <td>123258.0</td>\n",
       "      <td>141.0</td>\n",
       "      <td>1306.0</td>\n",
       "      <td>1453.0</td>\n",
       "      <td>104.0</td>\n",
       "      <td>NaN</td>\n",
       "      <td>54519.0</td>\n",
       "      <td>36763.0</td>\n",
       "      <td>29022.0</td>\n",
       "      <td>152280.0</td>\n",
       "      <td>266022.0</td>\n",
       "      <td>NaN</td>\n",
       "      <td>402615.0</td>\n",
       "    </tr>\n",
       "    <tr>\n",
       "      <th>923</th>\n",
       "      <td>2022-08-03</td>\n",
       "      <td>NaN</td>\n",
       "      <td>NaN</td>\n",
       "      <td>0.227560</td>\n",
       "      <td>NaN</td>\n",
       "      <td>1151.0</td>\n",
       "      <td>19389.0</td>\n",
       "      <td>715761.0</td>\n",
       "      <td>123341.0</td>\n",
       "      <td>92.0</td>\n",
       "      <td>1001.0</td>\n",
       "      <td>1316.0</td>\n",
       "      <td>86.0</td>\n",
       "      <td>NaN</td>\n",
       "      <td>38788.0</td>\n",
       "      <td>NaN</td>\n",
       "      <td>29029.0</td>\n",
       "      <td>152370.0</td>\n",
       "      <td>NaN</td>\n",
       "      <td>NaN</td>\n",
       "      <td>403320.0</td>\n",
       "    </tr>\n",
       "    <tr>\n",
       "      <th>924</th>\n",
       "      <td>2022-08-04</td>\n",
       "      <td>NaN</td>\n",
       "      <td>NaN</td>\n",
       "      <td>0.227560</td>\n",
       "      <td>NaN</td>\n",
       "      <td>1151.0</td>\n",
       "      <td>19154.0</td>\n",
       "      <td>716889.0</td>\n",
       "      <td>123426.0</td>\n",
       "      <td>107.0</td>\n",
       "      <td>1002.0</td>\n",
       "      <td>1145.0</td>\n",
       "      <td>87.0</td>\n",
       "      <td>NaN</td>\n",
       "      <td>33799.0</td>\n",
       "      <td>NaN</td>\n",
       "      <td>29031.0</td>\n",
       "      <td>152457.0</td>\n",
       "      <td>NaN</td>\n",
       "      <td>80.3</td>\n",
       "      <td>403749.0</td>\n",
       "    </tr>\n",
       "    <tr>\n",
       "      <th>925</th>\n",
       "      <td>2022-08-05</td>\n",
       "      <td>NaN</td>\n",
       "      <td>NaN</td>\n",
       "      <td>0.225781</td>\n",
       "      <td>NaN</td>\n",
       "      <td>1142.0</td>\n",
       "      <td>18803.0</td>\n",
       "      <td>717990.0</td>\n",
       "      <td>123503.0</td>\n",
       "      <td>106.0</td>\n",
       "      <td>851.0</td>\n",
       "      <td>1131.0</td>\n",
       "      <td>83.0</td>\n",
       "      <td>NaN</td>\n",
       "      <td>30592.0</td>\n",
       "      <td>NaN</td>\n",
       "      <td>29034.0</td>\n",
       "      <td>152537.0</td>\n",
       "      <td>NaN</td>\n",
       "      <td>NaN</td>\n",
       "      <td>404228.0</td>\n",
       "    </tr>\n",
       "  </tbody>\n",
       "</table>\n",
       "<p>926 rows × 21 columns</p>\n",
       "</div>"
      ],
      "text/plain": [
       "           date  tx_pos  tx_incid        TO   R     rea     hosp       rad  \\\n",
       "0    2020-01-23     NaN       NaN       NaN NaN     NaN      NaN       NaN   \n",
       "1    2020-01-24     NaN       NaN       NaN NaN     NaN      NaN       NaN   \n",
       "2    2020-01-25     NaN       NaN       NaN NaN     NaN      NaN       NaN   \n",
       "3    2020-01-26     NaN       NaN       NaN NaN     NaN      NaN       NaN   \n",
       "4    2020-01-27     NaN       NaN       NaN NaN     NaN      NaN       NaN   \n",
       "..          ...     ...       ...       ...  ..     ...      ...       ...   \n",
       "921  2022-08-01   22.71    421.17  0.238236 NaN  1205.0  20063.0  713025.0   \n",
       "922  2022-08-02   22.21    392.00  0.233294 NaN  1180.0  19792.0  714464.0   \n",
       "923  2022-08-03     NaN       NaN  0.227560 NaN  1151.0  19389.0  715761.0   \n",
       "924  2022-08-04     NaN       NaN  0.227560 NaN  1151.0  19154.0  716889.0   \n",
       "925  2022-08-05     NaN       NaN  0.225781 NaN  1142.0  18803.0  717990.0   \n",
       "\n",
       "       dchosp  incid_rea  incid_hosp  incid_rad  incid_dchosp  conf  conf_j1  \\\n",
       "0         NaN        NaN         NaN        NaN           NaN   NaN      NaN   \n",
       "1         NaN        NaN         NaN        NaN           NaN   NaN      NaN   \n",
       "2         NaN        NaN         NaN        NaN           NaN   NaN      NaN   \n",
       "3         NaN        NaN         NaN        NaN           NaN   NaN      NaN   \n",
       "4         NaN        NaN         NaN        NaN           NaN   NaN      NaN   \n",
       "..        ...        ...         ...        ...           ...   ...      ...   \n",
       "921  123157.0      130.0      1195.0     1046.0         122.0   NaN   7249.0   \n",
       "922  123258.0      141.0      1306.0     1453.0         104.0   NaN  54519.0   \n",
       "923  123341.0       92.0      1001.0     1316.0          86.0   NaN  38788.0   \n",
       "924  123426.0      107.0      1002.0     1145.0          87.0   NaN  33799.0   \n",
       "925  123503.0      106.0       851.0     1131.0          83.0   NaN  30592.0   \n",
       "\n",
       "         pos  esms_dc    dc_tot    pos_7j  cv_dose1  esms_cas  \n",
       "0        NaN      NaN       NaN       NaN       NaN       NaN  \n",
       "1        NaN      NaN       NaN       NaN       NaN       NaN  \n",
       "2        NaN      NaN       NaN       NaN       NaN       NaN  \n",
       "3        NaN      NaN       NaN       NaN       NaN       NaN  \n",
       "4        NaN      NaN       NaN       NaN       NaN       NaN  \n",
       "..       ...      ...       ...       ...       ...       ...  \n",
       "921  56657.0  29022.0  152179.0  285823.0       NaN  402595.0  \n",
       "922  36763.0  29022.0  152280.0  266022.0       NaN  402615.0  \n",
       "923      NaN  29029.0  152370.0       NaN       NaN  403320.0  \n",
       "924      NaN  29031.0  152457.0       NaN      80.3  403749.0  \n",
       "925      NaN  29034.0  152537.0       NaN       NaN  404228.0  \n",
       "\n",
       "[926 rows x 21 columns]"
      ]
     },
     "execution_count": 4,
     "metadata": {},
     "output_type": "execute_result"
    }
   ],
   "source": [
    "covid_indicator"
   ]
  },
  {
   "cell_type": "code",
   "execution_count": 5,
   "metadata": {},
   "outputs": [
    {
     "data": {
      "text/plain": [
       "<AxesSubplot:ylabel='date'>"
      ]
     },
     "execution_count": 5,
     "metadata": {},
     "output_type": "execute_result"
    },
    {
     "data": {
      "image/png": "[encoded data removed]",
      "text/plain": [
       "<Figure size 432x288 with 2 Axes>"
      ]
     },
     "metadata": {
      "needs_background": "light"
     },
     "output_type": "display_data"
    }
   ],
   "source": [
    "sns.heatmap(covid_indicator.set_index('date').isna())"
   ]
  },
  {
   "cell_type": "code",
   "execution_count": 6,
   "metadata": {},
   "outputs": [],
   "source": [
    "features = ['hosp', \n",
    "        'incid_hosp', \n",
    "        'rea', \n",
    "        'incid_rea', \n",
    "        'rad', \n",
    "        'incid_rad',\n",
    "        'pos',\n",
    "        'pos_7j',\n",
    "        'tx_pos',\n",
    "        'tx_incid',\n",
    "        'TO',\n",
    "        'R']\n",
    "\n",
    "features += ['pop', 'P', 'T', 'Ti', 'Tp', 'Td']\n",
    "\n",
    "target = ['incid_dchosp']"
   ]
  },
  {
   "cell_type": "code",
   "execution_count": 7,
   "metadata": {},
   "outputs": [
    {
     "data": {
      "text/plain": [
       "<AxesSubplot:ylabel='date'>"
      ]
     },
     "execution_count": 7,
     "metadata": {},
     "output_type": "execute_result"
    },
    {
     "data": {
      "image/png": "[encoded data removed]",
      "text/plain": [
       "<Figure size 432x288 with 2 Axes>"
      ]
     },
     "metadata": {
      "needs_background": "light"
     },
     "output_type": "display_data"
    }
   ],
   "source": [
    "sns.heatmap(covid_indicator.set_index('date')[features + target].isna())"
   ]
  },
  {
   "cell_type": "code",
   "execution_count": 40,
   "metadata": {},
   "outputs": [],
   "source": [
    "covid_test.loc[:, ['pop', 'P', 'T', 'Ti', 'Tp', 'Td']] = covid_test.loc[:, ['pop', 'P', 'T', 'Ti', 'Tp', 'Td']].applymap(lambda row: float(row.replace(',','.')))"
   ]
  },
  {
   "cell_type": "code",
   "execution_count": 60,
   "metadata": {},
   "outputs": [],
   "source": [
    "covid_df = pd.merge(\n",
    "        left=covid_indicator,\n",
    "        right=covid_test,\n",
    "        left_on='date',\n",
    "        right_on='jour',\n",
    "        how='inner')\n",
    "\n",
    "covid_df = covid_df[['date'] + features + target].dropna()\n",
    "\n"
   ]
  },
  {
   "cell_type": "code",
   "execution_count": 61,
   "metadata": {},
   "outputs": [],
   "source": [
    "def get_j7_dc(row):\n",
    "    try:\n",
    "        j7_date = datetime.datetime.strftime(datetime.datetime.strptime(row['date'], '%Y-%m-%d') + datetime.timedelta(days=7), '%Y-%m-%d')\n",
    "        j7_dc = covid_df.loc[covid_df.date == j7_date, 'incid_dchosp'].values[0]\n",
    "        return(j7_dc)\n",
    "    except:\n",
    "        return(-1)\n",
    "covid_df.loc[:, 'dc_j7'] = covid_df.apply(get_j7_dc, axis=1)"
   ]
  },
  {
   "cell_type": "code",
   "execution_count": 63,
   "metadata": {},
   "outputs": [],
   "source": [
    "covid_df = covid_df.loc[covid_df.dc_j7 != -1, :]\n",
    "covid_df.set_index('date', inplace=True)"
   ]
  },
  {
   "cell_type": "code",
   "execution_count": 65,
   "metadata": {},
   "outputs": [],
   "source": [
    "df_train, df_val = covid_df.iloc[:-7], covid_df.iloc[-7:]\n",
    "\n",
    "X_train, y_train = df_train[features], df_train['dc_j7']\n",
    "X_val, y_val = df_val[features], df_val['dc_j7']\n"
   ]
  },
  {
   "cell_type": "code",
   "execution_count": 66,
   "metadata": {},
   "outputs": [],
   "source": [
    "rf = RandomForestRegressor(random_state=0)\n",
    "\n",
    "rf.fit(X_train, y_train)\n",
    "y_pred = rf.predict(X_val)"
   ]
  },
  {
   "cell_type": "code",
   "execution_count": 72,
   "metadata": {},
   "outputs": [],
   "source": [
    "y_pred = np.round(y_pred)"
   ]
  },
  {
   "cell_type": "code",
   "execution_count": 73,
   "metadata": {},
   "outputs": [
    {
     "data": {
      "text/plain": [
       "13.857142857142858"
      ]
     },
     "execution_count": 73,
     "metadata": {},
     "output_type": "execute_result"
    }
   ],
   "source": [
    "mae = mean_absolute_error(y_val, y_pred)\n",
    "mae"
   ]
  },
  {
   "cell_type": "code",
   "execution_count": 74,
   "metadata": {},
   "outputs": [
    {
     "data": {
      "text/plain": [
       "array([ 28., 139., 132., 111., 113., 109.,  68.])"
      ]
     },
     "execution_count": 74,
     "metadata": {},
     "output_type": "execute_result"
    }
   ],
   "source": [
    "y_pred"
   ]
  },
  {
   "cell_type": "code",
   "execution_count": 75,
   "metadata": {},
   "outputs": [
    {
     "data": {
      "text/plain": [
       "date\n",
       "2022-07-17     19.0\n",
       "2022-07-18    132.0\n",
       "2022-07-19    119.0\n",
       "2022-07-20     95.0\n",
       "2022-07-21    104.0\n",
       "2022-07-22     82.0\n",
       "2022-07-23     52.0\n",
       "Name: dc_j7, dtype: float64"
      ]
     },
     "execution_count": 75,
     "metadata": {},
     "output_type": "execute_result"
    }
   ],
   "source": [
    "y_val"
   ]
  },
  {
   "cell_type": "code",
   "execution_count": 76,
   "metadata": {},
   "outputs": [
    {
     "data": {
      "text/plain": [
       "<matplotlib.legend.Legend at 0x7f186793aa90>"
      ]
     },
     "execution_count": 76,
     "metadata": {},
     "output_type": "execute_result"
    },
    {
     "data": {
      "image/png": "[encoded data removed]",
      "text/plain": [
       "<Figure size 432x288 with 1 Axes>"
      ]
     },
     "metadata": {
      "needs_background": "light"
     },
     "output_type": "display_data"
    }
   ],
   "source": [
    "plt.xticks(rotation=45)\n",
    "sns.lineplot(x=covid_df.iloc[-7:, 0], y=y_val, label='Ground truth')\n",
    "sns.lineplot(x=covid_df.iloc[-7:, 0], y=y_pred, label='Deaths prediction')\n",
    "plt.legend()"
   ]
  },
  {
   "cell_type": "code",
   "execution_count": 77,
   "metadata": {},
   "outputs": [
    {
     "data": {
      "image/png": "[encoded data removed]",
      "text/plain": [
       "<Figure size 432x288 with 1 Axes>"
      ]
     },
     "metadata": {
      "needs_background": "light"
     },
     "output_type": "display_data"
    }
   ],
   "source": [
    "importances = rf.feature_importances_\n",
    "forest_importances = pd.Series(importances, index=features)\n",
    "std = np.std([tree.feature_importances_ for tree in rf.estimators_], axis=0)\n",
    "\n",
    "fig, ax = plt.subplots()\n",
    "forest_importances.plot.bar(yerr=std, ax=ax)\n",
    "ax.set_title(\"Feature importances using MDI\")\n",
    "ax.set_ylabel(\"Mean decrease in impurity\")\n",
    "fig.tight_layout()"
   ]
  },
  {
   "cell_type": "code",
   "execution_count": 78,
   "metadata": {},
   "outputs": [],
   "source": [
    "from sklearn.inspection import permutation_importance\n",
    "\n",
    "result = permutation_importance(\n",
    "    rf, X_train, y_train, n_repeats=10, random_state=42, n_jobs=2\n",
    ")\n",
    "\n",
    "\n",
    "forest_importances = pd.Series(result.importances_mean, index=features)"
   ]
  },
  {
   "cell_type": "code",
   "execution_count": 79,
   "metadata": {},
   "outputs": [
    {
     "data": {
      "image/png": "[encoded data removed]",
      "text/plain": [
       "<Figure size 432x288 with 1 Axes>"
      ]
     },
     "metadata": {
      "needs_background": "light"
     },
     "output_type": "display_data"
    }
   ],
   "source": [
    "fig, ax = plt.subplots()\n",
    "forest_importances.plot.bar(yerr=result.importances_std, ax=ax)\n",
    "ax.set_title(\"Feature importances using permutation on full model\")\n",
    "ax.set_ylabel(\"Mean accuracy decrease\")\n",
    "fig.tight_layout()\n",
    "plt.show()"
   ]
  }
 ],
 "metadata": {
  "kernelspec": {
   "display_name": "Python 3.9.12 ('covid19-deaths-prediction-G3jfNdmc')",
   "language": "python",
   "name": "python3"
  },
  "language_info": {
   "codemirror_mode": {
    "name": "ipython",
    "version": 3
   },
   "file_extension": ".py",
   "mimetype": "text/x-python",
   "name": "python",
   "nbconvert_exporter": "python",
   "pygments_lexer": "ipython3",
   "version": "3.9.12"
  },
  "orig_nbformat": 4,
  "vscode": {
   "interpreter": {
    "hash": "33d7c1cbce9bc36930332af7f21f4f916777c7d83a2ddb75d9c81923cb7165b1"
   }
  }
 },
 "nbformat": 4,
 "nbformat_minor": 2
}
